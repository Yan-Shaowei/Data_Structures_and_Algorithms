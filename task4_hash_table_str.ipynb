{
 "cells": [
  {
   "cell_type": "markdown",
   "metadata": {},
   "source": [
    "# 散列表"
   ]
  },
  {
   "cell_type": "markdown",
   "metadata": {},
   "source": [
    "散列技术是在记录的储存位置和它的关键字之间建立一个确定的对应关系f，使得每个关键字key对应一个储存位置f（key）\n",
    "\n",
    "我们把f称为散列函数。采用散列技术将记录储存在一块连续的储存空间，储存空间称为散列表或哈希表\n",
    "\n",
    "散列技术既是储存方法，也是查找方法。最适合查找与给定值相等的记录。\n",
    "\n",
    "但存在冲突的问题，如果key1 != key2，但f（key1）=f(key2)就为冲突。此时key1和key2为散列函数的同义词。"
   ]
  },
  {
   "cell_type": "markdown",
   "metadata": {},
   "source": [
    "### 常用方法"
   ]
  },
  {
   "cell_type": "markdown",
   "metadata": {},
   "source": [
    "计算简单，地址分布均匀"
   ]
  },
  {
   "cell_type": "markdown",
   "metadata": {},
   "source": [
    "1.直接地址法\n",
    "f(key)=a*key+b\n",
    "\n",
    "优点是简单、均匀、不产生冲突\n",
    "\n",
    "缺点是需要事先知道关键字的分布情况\n",
    "\n",
    "适合查找表较小且连续的情况\n",
    "\n",
    "2.数字分析法\n",
    "\n",
    "适合处理关键字位数比较大的情况（事先知道关键字的分布，且分布均匀）\n",
    "\n",
    "3.平方取中法\n",
    "\n",
    "适合不知道关键字的分布，位数不是很大的情况\n",
    "\n",
    "4.折叠法\n",
    "\n",
    "事先不知道关键字的分布，且关键字位数比较多的情况\n",
    "\n",
    "5.除留余数法(最常用)\n",
    "f（key）=key mod p（p<=m)\n",
    "\n",
    "mod为求余\n",
    "若散列表表长为m，那么p最好为小于等于表长的最小质数或不包含小于20质因子的合数\n",
    "\n",
    "6.随机数法\n",
    "f(key) = random(key)\n",
    "\n",
    "当关键字的长度不等时，采用这个方法较合适"
   ]
  },
  {
   "cell_type": "markdown",
   "metadata": {},
   "source": [
    "### 解决冲突方法"
   ]
  },
  {
   "cell_type": "markdown",
   "metadata": {},
   "source": [
    "1.开放定址法\n",
    "\n",
    "如果发生冲突，就去寻找下一个空的散列地址\n",
    "\n",
    "f(key)=(f(key)+d) mod m(d=1,2,3,...,m-1)线性探测法，会出现堆积\n",
    "\n",
    "f(key)=(f(key)+d) mod m(d=1方，2方，3方，...,q方，-q方，q<=m/2 二次探测法\n",
    "\n",
    "f(key)=(f(key)+d) mod m(d为随机数列) 随机探测法\n",
    "\n",
    "\n",
    "2.再散列函数法\n",
    "\n",
    "事先准备多个散列函数\n",
    "\n",
    "3.链地址法\n",
    "\n",
    "将重复的词储存在单链表里\n",
    "\n",
    "4.公共溢出区法\n",
    "\n",
    "建立公共的溢出区"
   ]
  },
  {
   "cell_type": "markdown",
   "metadata": {},
   "source": [
    "# 散列表（基于链表法解决冲突）"
   ]
  },
  {
   "cell_type": "code",
   "execution_count": 105,
   "metadata": {},
   "outputs": [],
   "source": [
    "class Node():\n",
    "    def __init__(self,key):\n",
    "        self.key = key\n",
    "        self.next = None\n",
    "\n",
    "class HashTable:\n",
    "    def __init__(self, cap=11):\n",
    "        self._table = [None] * cap\n",
    "        self._n = 0\n",
    "        \n",
    "    def __len__(self):\n",
    "        return self._n\n",
    "        \n",
    "    def _hash(self,key):\n",
    "        return abs(hash(key))%len(self._table)\n",
    "    \n",
    "    def __getitem__(self,key):\n",
    "        j = self._hash(key)\n",
    "        node = self._table[j]\n",
    "        while node is not None and node.key!= key:\n",
    "            node = node.next\n",
    "        if node is None:\n",
    "            raise KeyError('not inside')\n",
    "        return node\n",
    "    \n",
    "    def insert(self,key):\n",
    "        try:\n",
    "            self[key]\n",
    "        except KeyError:\n",
    "            j = self._hash(key)\n",
    "            node = self._table[j]\n",
    "            self._table[j] = Node(key)\n",
    "            self._table[j].next = node\n",
    "            self._n +=1\n",
    "    \n",
    "    def __delitem__(self,key):\n",
    "        j = self._hash(key)\n",
    "        node = self._table[j]\n",
    "        if node is not None:\n",
    "            if node.key == key:\n",
    "                self._table[j] = node.next\n",
    "                self._n -=1\n",
    "            else:\n",
    "                while node.next!= None:\n",
    "                    pre = node\n",
    "                    node = node.next\n",
    "                    if node.key == key:\n",
    "                        pre.next = node.next\n",
    "                        self._n -=1\n",
    "                        break\n",
    "        "
   ]
  },
  {
   "cell_type": "code",
   "execution_count": 106,
   "metadata": {},
   "outputs": [],
   "source": [
    "table = HashTable()"
   ]
  },
  {
   "cell_type": "code",
   "execution_count": 107,
   "metadata": {},
   "outputs": [],
   "source": [
    "table.insert(2)\n",
    "table.insert(10)\n",
    "table.insert('a')"
   ]
  },
  {
   "cell_type": "code",
   "execution_count": 109,
   "metadata": {},
   "outputs": [
    {
     "data": {
      "text/plain": [
       "<__main__.Node at 0x23b033f6048>"
      ]
     },
     "execution_count": 109,
     "metadata": {},
     "output_type": "execute_result"
    }
   ],
   "source": [
    "table['a']"
   ]
  },
  {
   "cell_type": "markdown",
   "metadata": {},
   "source": [
    "# Trie树"
   ]
  },
  {
   "cell_type": "code",
   "execution_count": 14,
   "metadata": {},
   "outputs": [],
   "source": [
    "class Trie:\n",
    "    def __init__(self):\n",
    "        self.root = {}\n",
    "        self.end = -1\n",
    "    #添加字符串词\n",
    "    def insert(self,word):\n",
    "        curNode = self.root\n",
    "        for c in word:\n",
    "            if not c in curNode:\n",
    "                curNode[c] = {}\n",
    "            curNode = curNode[c]\n",
    "        curNode[self.end] = True\n",
    "    #搜索\n",
    "    def search(self,word):\n",
    "        curNode = self.root\n",
    "        for c in word:\n",
    "            if not c in curNode:\n",
    "                return False\n",
    "            curNode = curNode[c]\n",
    "        \n",
    "        if not self.end in curNode:\n",
    "            return False\n",
    "        return True\n",
    "    \n",
    "    def startswith(self,prefix):\n",
    "        curNode = self.root\n",
    "        for c in prefix:\n",
    "            if not c in curNode:\n",
    "                return False\n",
    "            curNode = curNode[c]\n",
    "        return True"
   ]
  },
  {
   "cell_type": "markdown",
   "metadata": {},
   "source": [
    "## 朴素字符串匹配算法"
   ]
  },
  {
   "cell_type": "code",
   "execution_count": 68,
   "metadata": {},
   "outputs": [],
   "source": [
    "#对于字符串str1和str2，查看str2是否在str1中，位置在哪里\n",
    "\n",
    "def match(str1,str2):\n",
    "    i = 0\n",
    "    j = 0\n",
    "    size1 = len(str1)\n",
    "    size2 = len(str2)\n",
    "    if size2 > size1:\n",
    "        return False\n",
    "    while i < size1-size2+1:\n",
    "        if str1[i+j] == str2[j]:\n",
    "            if j == size2-1:\n",
    "                return i\n",
    "            j += 1\n",
    "        else:\n",
    "            i = i+1\n",
    "            j = 0\n",
    "    return False"
   ]
  },
  {
   "cell_type": "code",
   "execution_count": 71,
   "metadata": {},
   "outputs": [
    {
     "data": {
      "text/plain": [
       "6"
      ]
     },
     "execution_count": 71,
     "metadata": {},
     "output_type": "execute_result"
    }
   ],
   "source": [
    "a = 'abbbbbba'\n",
    "b = 'ba'\n",
    "match(a,b)"
   ]
  },
  {
   "cell_type": "markdown",
   "metadata": {},
   "source": [
    "## 习题"
   ]
  },
  {
   "cell_type": "markdown",
   "metadata": {},
   "source": [
    "### 两数之和"
   ]
  },
  {
   "cell_type": "markdown",
   "metadata": {},
   "source": [
    "给定一个整数数组 nums 和一个目标值 target，请你在该数组中找出和为目标值的那 两个 整数，并返回他们的数组下标。\n",
    "\n",
    "你可以假设每种输入只会对应一个答案。但是，你不能重复利用这个数组中同样的元素。\n",
    "\n",
    "示例:\n",
    "\n",
    "给定 nums = [2, 7, 11, 15], target = 9\n",
    "\n",
    "因为 nums[0] + nums[1] = 2 + 7 = 9\n",
    "所以返回 [0, 1]"
   ]
  },
  {
   "cell_type": "code",
   "execution_count": 2,
   "metadata": {},
   "outputs": [],
   "source": [
    "class Solution(object):\n",
    "    def twoSum(self, nums, target):\n",
    "        \"\"\"\n",
    "        :type nums: List[int]\n",
    "        :type target: int\n",
    "        :rtype: List[int]\n",
    "        \"\"\"\n",
    "        if len(nums) <= 1:\n",
    "            return False\n",
    "        keys = {}\n",
    "        for i,v in enumerate(nums):\n",
    "            if target-v in keys:\n",
    "                return [keys[target-v],i]\n",
    "            else:\n",
    "                keys[v] = i\n",
    "        return None"
   ]
  },
  {
   "cell_type": "markdown",
   "metadata": {},
   "source": [
    "### 反转字符串"
   ]
  },
  {
   "cell_type": "markdown",
   "metadata": {},
   "source": [
    "编写一个函数，其作用是将输入的字符串反转过来。输入字符串以字符数组 char[] 的形式给出。\n",
    "\n",
    "不要给另外的数组分配额外的空间，你必须原地修改输入数组、使用 O(1) 的额外空间解决这一问题。\n",
    "\n",
    "你可以假设数组中的所有字符都是 ASCII 码表中的可打印字符。\n",
    "\n",
    " \n",
    "\n",
    "示例 1：\n",
    "\n",
    "输入：[\"h\",\"e\",\"l\",\"l\",\"o\"]\n",
    "输出：[\"o\",\"l\",\"l\",\"e\",\"h\"]\n",
    "\n",
    "\n",
    "示例 2：\n",
    "\n",
    "输入：[\"H\",\"a\",\"n\",\"n\",\"a\",\"h\"]\n",
    "输出：[\"h\",\"a\",\"n\",\"n\",\"a\",\"H\"]"
   ]
  },
  {
   "cell_type": "code",
   "execution_count": 15,
   "metadata": {},
   "outputs": [],
   "source": [
    "class Solution(object):\n",
    "    def reverseString(self, s):\n",
    "        \"\"\"\n",
    "        :type s: List[str]\n",
    "        :rtype: None Do not return anything, modify s in-place instead.\n",
    "        \"\"\"\n",
    "        s[0::] = s[::-1]"
   ]
  },
  {
   "cell_type": "code",
   "execution_count": 16,
   "metadata": {},
   "outputs": [],
   "source": [
    "class Solution(object):\n",
    "    def reverseString(self, s):\n",
    "        \"\"\"\n",
    "        :type s: List[str]\n",
    "        :rtype: None Do not return anything, modify s in-place instead.\n",
    "        \"\"\"\n",
    "        i = 0\n",
    "        j = len(s)-1\n",
    "        while i<j:\n",
    "            s[i],s[j] = s[j],s[i]\n",
    "            i += 1\n",
    "            j -= 1"
   ]
  },
  {
   "cell_type": "markdown",
   "metadata": {},
   "source": [
    "### 反转字符串里的单词"
   ]
  },
  {
   "cell_type": "markdown",
   "metadata": {},
   "source": [
    "给定一个字符串，逐个翻转字符串中的每个单词。\n",
    "\n",
    " \n",
    "\n",
    "示例 1：\n",
    "\n",
    "输入: \"the sky is blue\"\n",
    "输出: \"blue is sky the\"\n",
    "\n",
    "\n",
    "示例 2：\n",
    "\n",
    "输入: \"  hello world!  \"\n",
    "输出: \"world! hello\"\n",
    "解释: 输入字符串可以在前面或者后面包含多余的空格，但是反转后的字符不能包括。\n",
    "\n",
    "\n",
    "示例 3：\n",
    "\n",
    "输入: \"a good   example\"\n",
    "输出: \"example good a\"\n",
    "解释: 如果两个单词间有多余的空格，将反转后单词间的空格减少到只含一个。\n",
    "\n",
    "\n",
    " \n",
    "\n",
    "说明：\n",
    "\n",
    "\n",
    "\t无空格字符构成一个单词。\n",
    "\t输入字符串可以在前面或者后面包含多余的空格，但是反转后的字符不能包括。\n",
    "\t如果两个单词间有多余的空格，将反转后单词间的空格减少到只含一个。"
   ]
  },
  {
   "cell_type": "code",
   "execution_count": 35,
   "metadata": {},
   "outputs": [],
   "source": [
    "class Solution(object):\n",
    "    def reverseWords(self, s):\n",
    "        \"\"\"\n",
    "        :type s: str\n",
    "        :rtype: str\n",
    "        \"\"\"\n",
    "        a = s.strip()\n",
    "        tmp = a.split(' ')\n",
    "        tmp = tmp[::-1]\n",
    "        result = tmp[0]\n",
    "        for i in range(1,len(tmp)):\n",
    "            if tmp[i] != '':\n",
    "                result = result + ' ' + tmp[i]\n",
    "        return result"
   ]
  },
  {
   "cell_type": "code",
   "execution_count": 36,
   "metadata": {},
   "outputs": [],
   "source": [
    "class Solution(object):\n",
    "    def reverseWords(self, s):\n",
    "        \"\"\"\n",
    "        :type s: str\n",
    "        :rtype: str\n",
    "        \"\"\"\n",
    "        return ' '.join(s.split()[::-1])"
   ]
  }
 ],
 "metadata": {
  "kernelspec": {
   "display_name": "Python 3",
   "language": "python",
   "name": "python3"
  },
  "language_info": {
   "codemirror_mode": {
    "name": "ipython",
    "version": 3
   },
   "file_extension": ".py",
   "mimetype": "text/x-python",
   "name": "python",
   "nbconvert_exporter": "python",
   "pygments_lexer": "ipython3",
   "version": "3.7.2"
  }
 },
 "nbformat": 4,
 "nbformat_minor": 2
}

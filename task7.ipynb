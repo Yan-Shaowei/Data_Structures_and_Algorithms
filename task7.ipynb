{
 "cells": [
  {
   "cell_type": "markdown",
   "metadata": {},
   "source": [
    "# 递归"
   ]
  },
  {
   "cell_type": "markdown",
   "metadata": {},
   "source": [
    "### 爬楼梯"
   ]
  },
  {
   "cell_type": "markdown",
   "metadata": {},
   "source": [
    "You are climbing a stair case. It takes n steps to reach to the top.\n",
    "Each time you can either climb 1 or 2 steps. In how many distinct ways can you climb to the top?\n",
    "Note: Given n will be a positive integer.\n",
    "\n",
    "Example 1:\n",
    "\n",
    "Input: 2\n",
    "\n",
    "Output: 2\n",
    "\n",
    "Explanation: There are two ways to climb to the top.\n",
    "1. 1 step + 1 step\n",
    "2. 2 steps\n",
    "\n",
    "Example 2:\n",
    "\n",
    "Input: 3\n",
    "\n",
    "Output: 3\n",
    "\n",
    "Explanation: There are three ways to climb to the top.\n",
    "1. 1 step + 1 step + 1 step\n",
    "2. 1 step + 2 steps\n",
    "3. 2 steps + 1 step"
   ]
  },
  {
   "cell_type": "code",
   "execution_count": 6,
   "metadata": {},
   "outputs": [],
   "source": [
    "def climbStairs(n):\n",
    "    if n == 1:\n",
    "        return 1\n",
    "    if n == 2:\n",
    "        return 2\n",
    "    nlist = [1,2]\n",
    "    while n > 2:\n",
    "        nlist.append(nlist[-1]+nlist[-2])\n",
    "        n -= 1\n",
    "    return nlist[-1]"
   ]
  },
  {
   "cell_type": "code",
   "execution_count": 7,
   "metadata": {},
   "outputs": [],
   "source": [
    "a = climbStairs(4)"
   ]
  },
  {
   "cell_type": "code",
   "execution_count": 8,
   "metadata": {},
   "outputs": [
    {
     "data": {
      "text/plain": [
       "5"
      ]
     },
     "execution_count": 8,
     "metadata": {},
     "output_type": "execute_result"
    }
   ],
   "source": [
    "a"
   ]
  },
  {
   "cell_type": "markdown",
   "metadata": {},
   "source": [
    "# 回溯"
   ]
  },
  {
   "cell_type": "markdown",
   "metadata": {},
   "source": [
    "也叫试探法，从一条路往前走，能进则进，不能进则退回来，换一条路再试。\n",
    "\n",
    "定义一个解空间（子集树、排列树二选一）\n",
    "利用适于搜索的方法组织解空间。  \n",
    "利用深度优先法搜索解空间。  \n",
    "利用剪枝函数避免移动到不可能产生解的子空间"
   ]
  },
  {
   "cell_type": "markdown",
   "metadata": {},
   "source": [
    "### 八皇后"
   ]
  },
  {
   "cell_type": "markdown",
   "metadata": {},
   "source": [
    "8×8格的国际象棋上摆放八个皇后，使其不能互相攻击，即任意两个皇后都不能处于同一行、同一列或同一斜线上，问有多少种摆法。"
   ]
  },
  {
   "cell_type": "code",
   "execution_count": 1,
   "metadata": {},
   "outputs": [],
   "source": [
    "def conflict(queen_str, current_queen):\n",
    "    \"\"\"\n",
    "    queen_str:指代当前皇后存放之前的所有皇后的集合\n",
    "    current_queen:指代当前皇后想要存放的位置\n",
    "    return：flag：指代当前位置的皇后是否与之前所有位置的皇后有冲突\n",
    "    \"\"\"\n",
    "    queen_length = len(queen_str)\n",
    "    Flag = False\n",
    "    for index in range(queen_length):\n",
    "        if abs(current_queen - int(queen_str[index])) in (0,queen_length-index):\n",
    "            Flag = True\n",
    "            break\n",
    "    return Flag\n",
    "\n",
    "def queens(nums=8,queen_str=''):\n",
    "    final_queens = []\n",
    "    \n",
    "    def back(queen_str):\n",
    "        if len(queen_str) == nums:\n",
    "            final_queens.append(queen_str)\n",
    "            return\n",
    "        for index in range(nums):\n",
    "            Flag = conflict(queen_str,index)\n",
    "            if Flag is False:\n",
    "                back(queen_str + str(index))\n",
    "    back(queen_str)\n",
    "    return final_queens\n"
   ]
  },
  {
   "cell_type": "code",
   "execution_count": 2,
   "metadata": {},
   "outputs": [],
   "source": [
    "final_queens = queens()"
   ]
  },
  {
   "cell_type": "code",
   "execution_count": 3,
   "metadata": {},
   "outputs": [
    {
     "data": {
      "text/plain": [
       "['04752613',\n",
       " '05726314',\n",
       " '06357142',\n",
       " '06471352',\n",
       " '13572064',\n",
       " '14602753',\n",
       " '14630752',\n",
       " '15063724',\n",
       " '15720364',\n",
       " '16257403',\n",
       " '16470352',\n",
       " '17502463',\n",
       " '20647135',\n",
       " '24170635',\n",
       " '24175360',\n",
       " '24603175',\n",
       " '24730615',\n",
       " '25147063',\n",
       " '25160374',\n",
       " '25164073',\n",
       " '25307461',\n",
       " '25317460',\n",
       " '25703641',\n",
       " '25704613',\n",
       " '25713064',\n",
       " '26174035',\n",
       " '26175304',\n",
       " '27360514',\n",
       " '30471625',\n",
       " '30475261',\n",
       " '31475026',\n",
       " '31625704',\n",
       " '31625740',\n",
       " '31640752',\n",
       " '31746025',\n",
       " '31750246',\n",
       " '35041726',\n",
       " '35716024',\n",
       " '35720641',\n",
       " '36074152',\n",
       " '36271405',\n",
       " '36415027',\n",
       " '36420571',\n",
       " '37025164',\n",
       " '37046152',\n",
       " '37420615',\n",
       " '40357162',\n",
       " '40731625',\n",
       " '40752613',\n",
       " '41357206',\n",
       " '41362750',\n",
       " '41506372',\n",
       " '41703625',\n",
       " '42057136',\n",
       " '42061753',\n",
       " '42736051',\n",
       " '46027531',\n",
       " '46031752',\n",
       " '46137025',\n",
       " '46152037',\n",
       " '46152073',\n",
       " '46302751',\n",
       " '47302516',\n",
       " '47306152',\n",
       " '50417263',\n",
       " '51602473',\n",
       " '51603742',\n",
       " '52064713',\n",
       " '52073164',\n",
       " '52074136',\n",
       " '52460317',\n",
       " '52470316',\n",
       " '52613704',\n",
       " '52617403',\n",
       " '52630714',\n",
       " '53047162',\n",
       " '53174602',\n",
       " '53602417',\n",
       " '53607142',\n",
       " '57130642',\n",
       " '60275314',\n",
       " '61307425',\n",
       " '61520374',\n",
       " '62057413',\n",
       " '62714053',\n",
       " '63147025',\n",
       " '63175024',\n",
       " '64205713',\n",
       " '71306425',\n",
       " '71420635',\n",
       " '72051463',\n",
       " '73025164']"
      ]
     },
     "execution_count": 3,
     "metadata": {},
     "output_type": "execute_result"
    }
   ],
   "source": [
    "final_queens"
   ]
  },
  {
   "cell_type": "code",
   "execution_count": 4,
   "metadata": {},
   "outputs": [
    {
     "data": {
      "text/plain": [
       "92"
      ]
     },
     "execution_count": 4,
     "metadata": {},
     "output_type": "execute_result"
    }
   ],
   "source": [
    "len(final_queens)"
   ]
  },
  {
   "cell_type": "markdown",
   "metadata": {},
   "source": [
    "### 0-1背包"
   ]
  },
  {
   "cell_type": "code",
   "execution_count": null,
   "metadata": {},
   "outputs": [],
   "source": []
  },
  {
   "cell_type": "code",
   "execution_count": null,
   "metadata": {},
   "outputs": [],
   "source": []
  },
  {
   "cell_type": "markdown",
   "metadata": {},
   "source": [
    "### 电话号码的字母组合"
   ]
  },
  {
   "cell_type": "code",
   "execution_count": 24,
   "metadata": {},
   "outputs": [],
   "source": [
    "class Solution(object):\n",
    "    def letterCombinations(self, digits):\n",
    "        \"\"\"\n",
    "        :type digits: str\n",
    "        :rtype: List[str]\n",
    "        \"\"\"\n",
    "        targetlist = []\n",
    "        nlist = {'2':['a','b','c'],'3':['d','e','f'],'4':['g','h','i'],'5':['j','k','l'],'6':['m','n','o'],'7':['p','q','r','s'],'8':['t','u','v'],'9':['w','x','y','z']}\n",
    "        \n",
    "        def backtrack(combination,next_digits):\n",
    "            if len(next_digits) == 0:\n",
    "                targetlist.append(combination)\n",
    "            else:\n",
    "                num = next_digits[0]\n",
    "                tmp = nlist.get(num)\n",
    "                for letter in tmp: \n",
    "                    backtrack(combination+letter,next_digits[1:])\n",
    "        if digits:\n",
    "            backtrack(\"\",digits)\n",
    "        return targetlist  "
   ]
  },
  {
   "cell_type": "markdown",
   "metadata": {},
   "source": [
    "### 全排列"
   ]
  },
  {
   "cell_type": "markdown",
   "metadata": {},
   "source": [
    "给定一个没有重复数字的序列，返回其所有可能的全排列。\n",
    "\n",
    "示例:\n",
    "\n",
    "输入: [1,2,3]\n",
    "\n",
    "输出:\n",
    "[\n",
    "  [1,2,3],\n",
    "  [1,3,2],\n",
    "  [2,1,3],\n",
    "  [2,3,1],\n",
    "  [3,1,2],\n",
    "  [3,2,1]\n",
    "]"
   ]
  },
  {
   "cell_type": "code",
   "execution_count": 25,
   "metadata": {},
   "outputs": [],
   "source": [
    "class Solution(object):\n",
    "    def permute(self, nums):\n",
    "        \"\"\"\n",
    "        :type nums: List[int]\n",
    "        :rtype: List[List[int]]\n",
    "        \"\"\"\n",
    "        targetlist = []\n",
    "        \n",
    "        def backtrack(first = 0):\n",
    "            if first == n:\n",
    "                targetlist.append(nums[:])\n",
    "            for i in range(first,n):\n",
    "                nums[first], nums[i] = nums[i], nums[first]\n",
    "                backtrack(first+1)\n",
    "                nums[first], nums[i] = nums[i], nums[first]\n",
    "        \n",
    "        n = len(nums)\n",
    "        backtrack()\n",
    "        return targetlist"
   ]
  },
  {
   "cell_type": "markdown",
   "metadata": {},
   "source": [
    "### 最小路径和"
   ]
  },
  {
   "cell_type": "markdown",
   "metadata": {},
   "source": [
    "给定一个包含非负整数的 m x n 网格，请找出一条从左上角到右下角的路径，使得路径上的数字总和为最小。\n",
    "\n",
    "说明：每次只能向下或者向右移动一步。\n",
    "\n",
    "示例:\n",
    "\n",
    "输入:\n",
    "[\n",
    "  [1,3,1],\n",
    "  [1,5,1],\n",
    "  [4,2,1]\n",
    "]\n",
    "\n",
    "输出: 7\n",
    "\n",
    "解释: 因为路径 1→3→1→1→1 的总和最小。\n"
   ]
  },
  {
   "cell_type": "code",
   "execution_count": 26,
   "metadata": {},
   "outputs": [],
   "source": [
    "class Solution(object):\n",
    "    def minPathSum(self, grid):\n",
    "        \"\"\"\n",
    "        :type grid: List[List[int]]\n",
    "        :rtype: int\n",
    "        \"\"\"\n",
    "        for rows in range(len(grid)):\n",
    "            for columns in range(len(grid[0])):\n",
    "                if rows == 0:\n",
    "                    if columns != 0:\n",
    "                        grid[rows][columns] += grid[rows][columns - 1]\n",
    "                else:\n",
    "                    if columns == 0:\n",
    "                        grid[rows][columns] += grid[rows - 1][columns]\n",
    "                    else:\n",
    "                        grid[rows][columns] += min(grid[rows][columns - 1], grid[rows - 1][columns])\n",
    "        return grid[-1][-1]"
   ]
  },
  {
   "cell_type": "markdown",
   "metadata": {},
   "source": [
    "### 正则表达式匹配"
   ]
  },
  {
   "cell_type": "code",
   "execution_count": 27,
   "metadata": {},
   "outputs": [],
   "source": [
    "class Solution(object):\n",
    "    def isMatch(self, text, pattern):\n",
    "        \"\"\"\n",
    "        :type s: str\n",
    "        :type p: str\n",
    "        :rtype: bool\n",
    "        \"\"\"\n",
    "        if not pattern:\n",
    "            return not text\n",
    "\n",
    "        first_match = bool(text) and pattern[0] in {text[0], '.'}\n",
    "\n",
    "        if len(pattern) >= 2 and pattern[1] == '*':\n",
    "            return (self.isMatch(text, pattern[2:]) or\n",
    "                    first_match and self.isMatch(text[1:], pattern))\n",
    "        else:\n",
    "            return first_match and self.isMatch(text[1:], pattern[1:])"
   ]
  },
  {
   "cell_type": "code",
   "execution_count": null,
   "metadata": {},
   "outputs": [],
   "source": []
  }
 ],
 "metadata": {
  "kernelspec": {
   "display_name": "Python 3",
   "language": "python",
   "name": "python3"
  },
  "language_info": {
   "codemirror_mode": {
    "name": "ipython",
    "version": 3
   },
   "file_extension": ".py",
   "mimetype": "text/x-python",
   "name": "python",
   "nbconvert_exporter": "python",
   "pygments_lexer": "ipython3",
   "version": "3.7.2"
  }
 },
 "nbformat": 4,
 "nbformat_minor": 2
}

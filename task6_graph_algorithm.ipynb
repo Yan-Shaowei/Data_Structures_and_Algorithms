{
 "cells": [
  {
   "cell_type": "markdown",
   "metadata": {},
   "source": [
    "## 有向图"
   ]
  },
  {
   "cell_type": "markdown",
   "metadata": {},
   "source": [
    "### 邻接表表示法"
   ]
  },
  {
   "cell_type": "code",
   "execution_count": 15,
   "metadata": {},
   "outputs": [],
   "source": [
    "class DirectedGraph():\n",
    "    def __init__(self,d):\n",
    "        if isinstance(d,dict):\n",
    "            self.__graph = d\n",
    "        else:\n",
    "            self.__graph = dict()\n",
    "            print('Sth error')\n",
    "            \n",
    "    def __generatePath(self,graph,path,end,results):\n",
    "        current = path[-1]\n",
    "        if current == end:\n",
    "            results.append(path)\n",
    "        else:\n",
    "            for n in graph[current]:\n",
    "                if n not in path:\n",
    "                    self.__generatePath(graph,path+[n],end,results)\n",
    "    \n",
    "    def search(self,start,end):\n",
    "        self.__results = []\n",
    "        self.__generatePath(self.__graph,[start],end,self.__results)\n",
    "        self.__results.sort(key = lambda x:len(x))\n",
    "        print('The path from',self.__results[0][0],'to',self.__results[0][-1],'is:')\n",
    "        for path in self.__results:\n",
    "            print(path)"
   ]
  },
  {
   "cell_type": "code",
   "execution_count": 16,
   "metadata": {},
   "outputs": [],
   "source": [
    "d = {'A':['B','C','D'],'B':['E'],'C':['D','F'],'D':['B','E','G'],'E':['D'],'F':['D','G'],'G':['E']}"
   ]
  },
  {
   "cell_type": "code",
   "execution_count": 17,
   "metadata": {},
   "outputs": [],
   "source": [
    "g = DirectedGraph(d)"
   ]
  },
  {
   "cell_type": "code",
   "execution_count": 21,
   "metadata": {},
   "outputs": [
    {
     "name": "stdout",
     "output_type": "stream",
     "text": [
      "The path from A to B is:\n",
      "['A', 'B']\n",
      "['A', 'D', 'B']\n",
      "['A', 'C', 'D', 'B']\n",
      "['A', 'C', 'F', 'D', 'B']\n",
      "['A', 'C', 'F', 'G', 'E', 'D', 'B']\n"
     ]
    }
   ],
   "source": [
    "g.search('A','B')"
   ]
  },
  {
   "cell_type": "code",
   "execution_count": null,
   "metadata": {},
   "outputs": [],
   "source": []
  },
  {
   "cell_type": "code",
   "execution_count": 22,
   "metadata": {},
   "outputs": [],
   "source": [
    "class Vertex:\n",
    "    __slots__ = '_element'\n",
    "    def __init__(self,x):\n",
    "        self._element = x\n",
    "    def element(self):\n",
    "        return self._element\n",
    "    def __hash__(self):\n",
    "        return hash(id(self))\n",
    "\n",
    "class Edge:\n",
    "    __slots__ = '_origin','_destination','_element'\n",
    "    \n",
    "    def __init__(self,u,v,x):\n",
    "        self._origin = u\n",
    "        self._destination = v\n",
    "        self._element = x\n",
    "    \n",
    "    def endpoints(self):\n",
    "        return (self._origin,self._destination)\n",
    "    \n",
    "    def opposite(self,v):\n",
    "        return self._destination if v is self._origin else self._origin\n",
    "    \n",
    "    def element(self):\n",
    "        return self._element\n",
    "    \n",
    "    def __hash__(self):\n",
    "        return hash((self._origin,self._destination))\n",
    "\n",
    "class Graph:\n",
    "    def __init__(self,directed = False):\n",
    "        self._outgoing = {}\n",
    "        self._incoming = {} if directed else self._outgoing\n",
    "        \n",
    "    def is_directed(self):\n",
    "        return self._incoming is not self._outgoing\n",
    "    \n",
    "    def vertex_count(self):\n",
    "        return len(self._outgoing)\n",
    "    \n",
    "    def vertices(self):\n",
    "        return self._outgoing.keys()\n",
    "    \n",
    "    def edge_count(self):\n",
    "        total = sum(len(self._outgoing[v] for v in self._outgoing))\n",
    "        return total if self.is_directed else total//2\n",
    "    \n",
    "    def edges(self):\n",
    "        result = set()\n",
    "        for secondary_map in self._outgoing.values():\n",
    "            result.update(secondary_map.values())\n",
    "        return result\n",
    "    \n",
    "    def get_edge(self,u,v):\n",
    "        return self._outgoing[u],get(v)\n",
    "    \n",
    "    def degree(self,v,outgoing = True):\n",
    "        adj = self._outgoing if outgoing else self._incoming\n",
    "        return len(adj[v])\n",
    "    \n",
    "    def incident_edges(self,v,outgoing = True):\n",
    "        adj = self._outgoing if outgoing else self._incoming\n",
    "        for edge in adj[v].values():\n",
    "            yield edge\n",
    "            \n",
    "    def insert_vertex(self,x=None):\n",
    "        v = self.Vertex()\n",
    "        self._outgoing[v] = {}\n",
    "        if self.is_directed():\n",
    "            self._incoming[v] = {}\n",
    "        return v\n",
    "    \n",
    "    def insert_edge(self,u,v,x=None):\n",
    "        e = self.Edge(u,v,x)\n",
    "        self._outgoing[u][v] = e\n",
    "        self._incoming[v][u] = e\n",
    "    \n",
    "    #深度优先搜索\n",
    "    def DFS(g,u,discovered):\n",
    "        for e in g.incident_edges(u):\n",
    "            v = e.opposite(u)\n",
    "            if v not in discovered:\n",
    "                discovered[v] = e\n",
    "                DFS(g,v,discovered)\n",
    "    \n",
    "    #广度优先搜索\n",
    "    def BFS(g,s,discovered):\n",
    "        level = [s]\n",
    "        while len(level) > 0:\n",
    "            next_level = []\n",
    "            for u in level:\n",
    "                for e in g.incident_edges(u):\n",
    "                    v = e.opposite(u)\n",
    "                    if v not in discovered:\n",
    "                        discovered[v] = e\n",
    "                        next_level.append(v)\n",
    "            level = next_level"
   ]
  },
  {
   "cell_type": "code",
   "execution_count": null,
   "metadata": {},
   "outputs": [],
   "source": []
  },
  {
   "cell_type": "markdown",
   "metadata": {},
   "source": [
    "## 拓扑排序"
   ]
  },
  {
   "cell_type": "code",
   "execution_count": null,
   "metadata": {},
   "outputs": [],
   "source": [
    "def topological_sort(g):\n",
    "    topo = []\n",
    "    ready = []\n",
    "    incount = {}\n",
    "    for u in g.vertices():\n",
    "        incount[u] = g.degree(u,False)\n",
    "        if incount[u] == 0:\n",
    "            ready.append(u)\n",
    "    while len(ready) > 0:\n",
    "        u = ready.pop()\n",
    "        topo.append(u)\n",
    "        for e in g.incident_edges(u):\n",
    "            v = e.opposite(u)\n",
    "            incount[v] -= 1\n",
    "            if incount[v] == 0:\n",
    "                ready.append(v)\n",
    "    return topo"
   ]
  },
  {
   "cell_type": "markdown",
   "metadata": {},
   "source": [
    "### 练习题：岛屿的数量"
   ]
  },
  {
   "cell_type": "markdown",
   "metadata": {},
   "source": [
    "给定一个由 '1'（陆地）和 '0'（水）组成的的二维网格，计算岛屿的数量。一个岛被水包围，并且它是通过水平方向或垂直方向上相邻的陆地连接而成的。你可以假设网格的四个边均被水包围。\n",
    "\n",
    "示例 1:\n",
    "\n",
    "输入:\n",
    "11110\n",
    "11010\n",
    "11000\n",
    "00000\n",
    "\n",
    "输出: 1\n",
    "\n",
    "\n",
    "示例 2:\n",
    "\n",
    "输入:\n",
    "11000\n",
    "11000\n",
    "00100\n",
    "00011\n",
    "\n",
    "输出: 3"
   ]
  },
  {
   "cell_type": "code",
   "execution_count": 25,
   "metadata": {},
   "outputs": [],
   "source": [
    "class Solution(object):\n",
    "    def numIslands(self, grid):\n",
    "        \"\"\"\n",
    "        :type grid: List[List[str]]\n",
    "        :rtype: int\n",
    "        \"\"\"\n",
    "        def dfs(grid, i, j):\n",
    "            if not 0 <= i < len(grid) or not 0 <= j < len(grid[0]) or grid[i][j] == '0': return\n",
    "            grid[i][j] = '0'\n",
    "            dfs(grid, i + 1, j)\n",
    "            dfs(grid, i, j + 1)\n",
    "            dfs(grid, i - 1, j)\n",
    "            dfs(grid, i, j - 1)\n",
    "        count = 0\n",
    "        for i in range(len(grid)):\n",
    "            for j in range(len(grid[0])):\n",
    "                if grid[i][j] == '1':\n",
    "                    dfs(grid, i, j)\n",
    "                    count += 1\n",
    "        return count\n",
    "    \n",
    "    #对于出现1的位置，记一次数，同时将四周的1变为0"
   ]
  },
  {
   "cell_type": "code",
   "execution_count": null,
   "metadata": {},
   "outputs": [],
   "source": []
  }
 ],
 "metadata": {
  "kernelspec": {
   "display_name": "Python 3",
   "language": "python",
   "name": "python3"
  },
  "language_info": {
   "codemirror_mode": {
    "name": "ipython",
    "version": 3
   },
   "file_extension": ".py",
   "mimetype": "text/x-python",
   "name": "python",
   "nbconvert_exporter": "python",
   "pygments_lexer": "ipython3",
   "version": "3.7.2"
  }
 },
 "nbformat": 4,
 "nbformat_minor": 2
}

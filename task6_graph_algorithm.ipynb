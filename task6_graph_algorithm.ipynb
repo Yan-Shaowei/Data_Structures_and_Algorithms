{
 "cells": [
  {
   "cell_type": "markdown",
   "metadata": {},
   "source": [
    "## 有向图"
   ]
  },
  {
   "cell_type": "markdown",
   "metadata": {},
   "source": [
    "### 邻接表表示法"
   ]
  },
  {
   "cell_type": "code",
   "execution_count": 15,
   "metadata": {},
   "outputs": [],
   "source": [
    "class DirectedGraph():\n",
    "    def __init__(self,d):\n",
    "        if isinstance(d,dict):\n",
    "            self.__graph = d\n",
    "        else:\n",
    "            self.__graph = dict()\n",
    "            print('Sth error')\n",
    "            \n",
    "    def __generatePath(self,graph,path,end,results):\n",
    "        current = path[-1]\n",
    "        if current == end:\n",
    "            results.append(path)\n",
    "        else:\n",
    "            for n in graph[current]:\n",
    "                if n not in path:\n",
    "                    self.__generatePath(graph,path+[n],end,results)\n",
    "    \n",
    "    def search(self,start,end):\n",
    "        self.__results = []\n",
    "        self.__generatePath(self.__graph,[start],end,self.__results)\n",
    "        self.__results.sort(key = lambda x:len(x))\n",
    "        print('The path from',self.__results[0][0],'to',self.__results[0][-1],'is:')\n",
    "        for path in self.__results:\n",
    "            print(path)"
   ]
  },
  {
   "cell_type": "code",
   "execution_count": 16,
   "metadata": {},
   "outputs": [],
   "source": [
    "d = {'A':['B','C','D'],'B':['E'],'C':['D','F'],'D':['B','E','G'],'E':['D'],'F':['D','G'],'G':['E']}"
   ]
  },
  {
   "cell_type": "code",
   "execution_count": 17,
   "metadata": {},
   "outputs": [],
   "source": [
    "g = DirectedGraph(d)"
   ]
  },
  {
   "cell_type": "code",
   "execution_count": 21,
   "metadata": {},
   "outputs": [
    {
     "name": "stdout",
     "output_type": "stream",
     "text": [
      "The path from A to B is:\n",
      "['A', 'B']\n",
      "['A', 'D', 'B']\n",
      "['A', 'C', 'D', 'B']\n",
      "['A', 'C', 'F', 'D', 'B']\n",
      "['A', 'C', 'F', 'G', 'E', 'D', 'B']\n"
     ]
    }
   ],
   "source": [
    "g.search('A','B')"
   ]
  },
  {
   "cell_type": "code",
   "execution_count": null,
   "metadata": {},
   "outputs": [],
   "source": []
  },
  {
   "cell_type": "code",
   "execution_count": 22,
   "metadata": {},
   "outputs": [],
   "source": [
    "class Vertex:\n",
    "    __slots__ = '_element'\n",
    "    def __init__(self,x):\n",
    "        self._element = x\n",
    "    def element(self):\n",
    "        return self._element\n",
    "    def __hash__(self):\n",
    "        return hash(id(self))\n",
    "\n",
    "class Edge:\n",
    "    __slots__ = '_origin','_destination','_element'\n",
    "    \n",
    "    def __init__(self,u,v,x):\n",
    "        self._origin = u\n",
    "        self._destination = v\n",
    "        self._element = x\n",
    "    \n",
    "    def endpoints(self):\n",
    "        return (self._origin,self._destination)\n",
    "    \n",
    "    def opposite(self,v):\n",
    "        return self._destination if v is self._origin else self._origin\n",
    "    \n",
    "    def element(self):\n",
    "        return self._element\n",
    "    \n",
    "    def __hash__(self):\n",
    "        return hash((self._origin,self._destination))\n",
    "        "
   ]
  },
  {
   "cell_type": "code",
   "execution_count": null,
   "metadata": {},
   "outputs": [],
   "source": []
  },
  {
   "cell_type": "code",
   "execution_count": null,
   "metadata": {},
   "outputs": [],
   "source": []
  },
  {
   "cell_type": "code",
   "execution_count": null,
   "metadata": {},
   "outputs": [],
   "source": []
  }
 ],
 "metadata": {
  "kernelspec": {
   "display_name": "Python 3",
   "language": "python",
   "name": "python3"
  },
  "language_info": {
   "codemirror_mode": {
    "name": "ipython",
    "version": 3
   },
   "file_extension": ".py",
   "mimetype": "text/x-python",
   "name": "python",
   "nbconvert_exporter": "python",
   "pygments_lexer": "ipython3",
   "version": "3.7.2"
  }
 },
 "nbformat": 4,
 "nbformat_minor": 2
}

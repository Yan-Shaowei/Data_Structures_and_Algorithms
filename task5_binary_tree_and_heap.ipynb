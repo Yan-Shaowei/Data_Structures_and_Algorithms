{
 "cells": [
  {
   "cell_type": "markdown",
   "metadata": {},
   "source": [
    "# 二叉树"
   ]
  },
  {
   "cell_type": "markdown",
   "metadata": {},
   "source": [
    "## 二叉查找树"
   ]
  },
  {
   "cell_type": "code",
   "execution_count": 45,
   "metadata": {},
   "outputs": [],
   "source": [
    "class BSTNode:\n",
    "    def __init__(self,data,left=None,right=None):\n",
    "        self.data = data\n",
    "        self.left = left\n",
    "        self.right = right\n",
    "\n",
    "class BinarySearchTree():\n",
    "    def __init__(self):\n",
    "        self._root = None\n",
    "        \n",
    "    def is_empty(self):\n",
    "        return self._root is None\n",
    "    \n",
    "    #插入\n",
    "    def insert(self,data):\n",
    "        if self.is_empty():\n",
    "            self._root = BSTNode(data)\n",
    "        bt = self._root\n",
    "        while True:\n",
    "            entry = bt.data\n",
    "            if data < entry:\n",
    "                if bt.left is None:\n",
    "                    bt.left = BSTNode(data)\n",
    "                bt = bt.left\n",
    "            elif data > entry:\n",
    "                if bt.right is None:\n",
    "                    bt.right = BSTNode(data)\n",
    "                bt = bt.right\n",
    "            else:\n",
    "                bt.data = data\n",
    "                return\n",
    "    \n",
    "    #删除\n",
    "    def delete(self,data):\n",
    "        p,q = None, self._root\n",
    "        if not q:\n",
    "            print('空树')\n",
    "            return\n",
    "        while q and q.data!=data:\n",
    "            p = q\n",
    "            if data<q.data:\n",
    "                q = q.left\n",
    "            else:\n",
    "                q = q.right\n",
    "            if not q:\n",
    "                return\n",
    "        if not q.left:\n",
    "            if p is None:\n",
    "                self._root = q.right\n",
    "            elif q is p.left:\n",
    "                p.left = q.right\n",
    "            else:\n",
    "                p.right = q.right\n",
    "            return\n",
    "        r = q.left\n",
    "        while r.right:\n",
    "            r = r.right\n",
    "        r.right = q.right\n",
    "        if p is None:\n",
    "            self.root = q.left\n",
    "        elif p.left == q:\n",
    "            p.left = q.left\n",
    "        else:\n",
    "            p.right = q.left\n",
    "    \n",
    "    #查找\n",
    "    def search(self,data):\n",
    "        bt = self._root\n",
    "        while bt:\n",
    "            entry = bt.data\n",
    "            if data < entry:\n",
    "                bt = bt.left\n",
    "            elif data > entry:\n",
    "                bt = bt.right\n",
    "            else:\n",
    "                return entry\n",
    "        return None\n",
    "    #前序遍历\n",
    "    def _pre_order(self,node = None):\n",
    "        if node is None:\n",
    "            node = self._root\n",
    "        yield node.data\n",
    "        if node.left is not None:\n",
    "            for item in self._pre_order(node.left):\n",
    "                yield item\n",
    "        if node.right is not None:\n",
    "            for item in self._pre_order(node.right):\n",
    "                yield item\n",
    "    def pre_order(self):\n",
    "        return list(self._pre_order())\n",
    "    #中序遍历\n",
    "    def _mid_order(self,node = None):\n",
    "        if node is None:\n",
    "            node = self._root\n",
    "        if node.left is not None:\n",
    "            for item in self._mid_order(node.left):\n",
    "                yield item\n",
    "        yield node.data\n",
    "        if node.right is not None:\n",
    "            for item in self._mid_order(node.right):\n",
    "                yield item\n",
    "    def mid_order(self):\n",
    "        return list(self._mid_order())\n",
    "    #后序遍历\n",
    "    def _post_order(self,node = None):\n",
    "        if node is None:\n",
    "            node = self._root\n",
    "        if node.left is not None:\n",
    "            for item in self._post_order(node.left):\n",
    "                yield item\n",
    "        if node.right is not None:\n",
    "            for item in self._post_order(node.right):\n",
    "                yield item\n",
    "        yield node.data\n",
    "    def post_order(self):\n",
    "        return list(self._post_order())"
   ]
  },
  {
   "cell_type": "code",
   "execution_count": 46,
   "metadata": {},
   "outputs": [
    {
     "name": "stdout",
     "output_type": "stream",
     "text": [
      "pre_order: [62, 58, 47, 35, 37, 51, 88, 73, 99, 93]\n",
      "mid_order: [35, 37, 47, 51, 58, 62, 73, 88, 93, 99]\n",
      "post_order: [37, 35, 51, 47, 58, 73, 93, 99, 88, 62]\n"
     ]
    }
   ],
   "source": [
    "if __name__ == '__main__':\n",
    "    lis = [62, 58, 88, 47, 73, 99, 35, 51, 93, 37]\n",
    "    bs_tree = BinarySearchTree()\n",
    "    for i in range(len(lis)):\n",
    "        bs_tree.insert(lis[i])\n",
    "\n",
    "    print ('pre_order:', bs_tree.pre_order())\n",
    "    print ('mid_order:', bs_tree.mid_order())\n",
    "    print ('post_order:', bs_tree.post_order())"
   ]
  },
  {
   "cell_type": "code",
   "execution_count": null,
   "metadata": {},
   "outputs": [],
   "source": []
  },
  {
   "cell_type": "markdown",
   "metadata": {},
   "source": [
    "# 堆"
   ]
  },
  {
   "cell_type": "markdown",
   "metadata": {},
   "source": [
    "## 小顶堆的实现"
   ]
  },
  {
   "cell_type": "code",
   "execution_count": 5,
   "metadata": {},
   "outputs": [],
   "source": [
    "class MyHeapSmall(object):\n",
    "    \n",
    "    def __init__(self,elist):\n",
    "        self._elems = list(elist)\n",
    "        if elist:\n",
    "            self.buildheap()\n",
    "    \n",
    "    #判断是否为空\n",
    "    def is_empty(self):\n",
    "        return not self._elems\n",
    "    \n",
    "    #取堆顶元素\n",
    "    def peak(self):\n",
    "        if self.is_empty():\n",
    "            raise ValueError('堆为空')\n",
    "        return self._elems[0]\n",
    "    \n",
    "    #上浮\n",
    "    def siftup(self,e,last):\n",
    "        elems,i,j = self._elems,last,(last-1)//2\n",
    "        while i>0 and e<elems[j]:\n",
    "            elems[i] = elems[j]\n",
    "            i,j = j,(j-1)//2\n",
    "        elems[i] = e\n",
    "        \n",
    "    #下沉\n",
    "    def siftdown(self,e,begin,end):\n",
    "        elems,i,j=self._elems,begin,begin*2+1\n",
    "        while j<end:\n",
    "            if j+1<end and elems[j+1]<elems[j]:\n",
    "                j+=1\n",
    "            if e<elems[j]:\n",
    "                break\n",
    "            elems[i] = elems[j]\n",
    "            i = j\n",
    "            j = 2*j+1\n",
    "        elems[i] = e\n",
    "        \n",
    "    #插入\n",
    "    def push(self,e):\n",
    "        self._elems.append(None)\n",
    "        self.siftup(e,len(self._elems)-1)\n",
    "        \n",
    "    #弹出\n",
    "    def pop(self):\n",
    "        if self.is_empty():\n",
    "            raise ValueError('堆为空')\n",
    "        elems = self._elems\n",
    "        e0 = elems[0]\n",
    "        e = elems.pop()\n",
    "        if len(elems)>0:\n",
    "            self.siftdown(e,0,len(elems))\n",
    "        return e0\n",
    "    \n",
    "    #重建堆\n",
    "    def buildheap(self):\n",
    "        end = len(self._elems)\n",
    "        for i in range(end//2-1,-1,-1):\n",
    "            self.siftdown(self._elems[i],i,end)"
   ]
  },
  {
   "cell_type": "markdown",
   "metadata": {},
   "source": [
    "## 大顶堆的实现"
   ]
  },
  {
   "cell_type": "code",
   "execution_count": 14,
   "metadata": {},
   "outputs": [],
   "source": [
    "class MyHeapBig(object):\n",
    "    \n",
    "    def __init__(self,elist):\n",
    "        self._elems = list(elist)\n",
    "        if elist:\n",
    "            self.buildheap()\n",
    "    \n",
    "    #判断是否为空\n",
    "    def is_empty(self):\n",
    "        return not self._elems\n",
    "    \n",
    "    #取堆顶元素\n",
    "    def peak(self):\n",
    "        if self.is_empty():\n",
    "            raise ValueError('堆为空')\n",
    "        return self._elems[0]\n",
    "    \n",
    "    #上浮\n",
    "    def siftup(self,e,last):\n",
    "        elems,i,j = self._elems,last,(last-1)//2\n",
    "        while i>0 and e>elems[j]:\n",
    "            elems[i] = elems[j]\n",
    "            i,j = j,(j-1)//2\n",
    "        elems[i] = e\n",
    "        \n",
    "    #下沉\n",
    "    def siftdown(self,e,begin,end):\n",
    "        elems,i,j=self._elems,begin,begin*2+1\n",
    "        while j<end:\n",
    "            if j+1<end and elems[j+1]>elems[j]:\n",
    "                j+=1\n",
    "            if e>elems[j]:\n",
    "                break\n",
    "            elems[i] = elems[j]\n",
    "            i = j\n",
    "            j = 2*j+1\n",
    "        elems[i] = e\n",
    "        \n",
    "    #插入\n",
    "    def push(self,e):\n",
    "        self._elems.append(None)\n",
    "        self.siftup(e,len(self._elems)-1)\n",
    "        \n",
    "    #弹出\n",
    "    def pop(self):\n",
    "        if self.is_empty():\n",
    "            raise ValueError('堆为空')\n",
    "        elems = self._elems\n",
    "        e0 = elems[0]\n",
    "        e = elems.pop()\n",
    "        if len(elems)>0:\n",
    "            self.siftdown(e,0,len(elems))\n",
    "        return e0\n",
    "    \n",
    "    #重建堆\n",
    "    def buildheap(self):\n",
    "        end = len(self._elems)\n",
    "        for i in range(end//2-1,-1,-1):\n",
    "            self.siftdown(self._elems[i],i,end)"
   ]
  },
  {
   "cell_type": "markdown",
   "metadata": {},
   "source": [
    "## 优先级队列"
   ]
  },
  {
   "cell_type": "code",
   "execution_count": 20,
   "metadata": {},
   "outputs": [],
   "source": [
    "import heapq\n",
    "\n",
    "class PriorityQueue:\n",
    "    def __init__(self):\n",
    "        self._queue = []\n",
    "        self._index = 0\n",
    "    def push(self,item,priority):\n",
    "        heapq.heappush(self._queue,(-priority,self._index,item))\n",
    "        self._index +=1\n",
    "    def pop(self):\n",
    "        return heapq.heappop(self._queue)[-1]\n",
    "class Item:\n",
    "    def __init__(self,name):\n",
    "        self.name = name\n",
    "    def __repr__(self):\n",
    "        return 'Item({!r})'.format(self.name)"
   ]
  },
  {
   "cell_type": "code",
   "execution_count": 31,
   "metadata": {},
   "outputs": [],
   "source": [
    "q = PriorityQueue()"
   ]
  },
  {
   "cell_type": "code",
   "execution_count": 32,
   "metadata": {},
   "outputs": [],
   "source": [
    "q.push(Item('foo'),1)"
   ]
  },
  {
   "cell_type": "code",
   "execution_count": 33,
   "metadata": {},
   "outputs": [],
   "source": [
    "q.push(Item('bar'),2)"
   ]
  },
  {
   "cell_type": "code",
   "execution_count": 34,
   "metadata": {},
   "outputs": [
    {
     "data": {
      "text/plain": [
       "Item('bar')"
      ]
     },
     "execution_count": 34,
     "metadata": {},
     "output_type": "execute_result"
    }
   ],
   "source": [
    "q.pop()"
   ]
  },
  {
   "cell_type": "code",
   "execution_count": 35,
   "metadata": {},
   "outputs": [
    {
     "data": {
      "text/plain": [
       "Item('foo')"
      ]
     },
     "execution_count": 35,
     "metadata": {},
     "output_type": "execute_result"
    }
   ],
   "source": [
    "q.pop()"
   ]
  },
  {
   "cell_type": "code",
   "execution_count": null,
   "metadata": {},
   "outputs": [],
   "source": []
  },
  {
   "cell_type": "markdown",
   "metadata": {},
   "source": [
    "### 翻转二叉树"
   ]
  },
  {
   "cell_type": "markdown",
   "metadata": {},
   "source": [
    "翻转一棵二叉树。\n",
    "\n",
    "示例：\n",
    "\n",
    "输入：\n",
    "\n",
    "         4\n",
    "       /   \\\n",
    "      2     7\n",
    "     / \\   / \\\n",
    "    1   3 6   9\n",
    "\n",
    "输出：\n",
    "\n",
    "         4\n",
    "       /   \\\n",
    "      7     2\n",
    "     / \\   / \\\n",
    "    9   6 3   1"
   ]
  },
  {
   "cell_type": "code",
   "execution_count": 47,
   "metadata": {},
   "outputs": [],
   "source": [
    "# Definition for a binary tree node.\n",
    "# class TreeNode(object):\n",
    "#     def __init__(self, x):\n",
    "#         self.val = x\n",
    "#         self.left = None\n",
    "#         self.right = None\n",
    "\n",
    "class Solution(object):\n",
    "    def invertTree(self, root):\n",
    "        \"\"\"\n",
    "        :type root: TreeNode\n",
    "        :rtype: TreeNode\n",
    "        \"\"\"\n",
    "        if root == None:\n",
    "            return root\n",
    "        if root.right == None and root.left == None:\n",
    "            return root\n",
    "        else:\n",
    "            root.right,root.left = root.left,root.right\n",
    "        self.invertTree(root.left)\n",
    "        self.invertTree(root.right)\n",
    "        return root"
   ]
  },
  {
   "cell_type": "markdown",
   "metadata": {},
   "source": [
    "### 二叉树的最大深度"
   ]
  },
  {
   "cell_type": "markdown",
   "metadata": {},
   "source": [
    "给定一个二叉树，找出其最大深度。\n",
    "\n",
    "二叉树的深度为根节点到最远叶子节点的最长路径上的节点数。\n",
    "\n",
    "说明: 叶子节点是指没有子节点的节点。\n",
    "\n",
    "示例：\n",
    "给定二叉树 [3,9,20,null,null,15,7]，\n",
    "\n",
    "        3\n",
    "       / \\\n",
    "      9  20\n",
    "        /  \\\n",
    "       15   7\n",
    "\n",
    "返回它的最大深度 3 。\n"
   ]
  },
  {
   "cell_type": "code",
   "execution_count": 49,
   "metadata": {},
   "outputs": [],
   "source": [
    "# Definition for a binary tree node.\n",
    "# class TreeNode(object):\n",
    "#     def __init__(self, x):\n",
    "#         self.val = x\n",
    "#         self.left = None\n",
    "#         self.right = None\n",
    "\n",
    "class Solution(object):\n",
    "    def maxDepth(self, root):\n",
    "        \"\"\"\n",
    "        :type root: TreeNode\n",
    "        :rtype: int\n",
    "        \"\"\"\n",
    "        if root == None:\n",
    "            return 0\n",
    "        if root.left == None and root.right == None:\n",
    "            return 1\n",
    "        return 1 + max(self.maxDepth(root.left),self.maxDepth(root.right))"
   ]
  },
  {
   "cell_type": "code",
   "execution_count": null,
   "metadata": {},
   "outputs": [],
   "source": []
  }
 ],
 "metadata": {
  "kernelspec": {
   "display_name": "Python 3",
   "language": "python",
   "name": "python3"
  },
  "language_info": {
   "codemirror_mode": {
    "name": "ipython",
    "version": 3
   },
   "file_extension": ".py",
   "mimetype": "text/x-python",
   "name": "python",
   "nbconvert_exporter": "python",
   "pygments_lexer": "ipython3",
   "version": "3.7.2"
  }
 },
 "nbformat": 4,
 "nbformat_minor": 2
}

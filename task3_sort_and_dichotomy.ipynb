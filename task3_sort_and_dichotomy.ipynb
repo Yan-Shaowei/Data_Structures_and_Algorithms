{
 "cells": [
  {
   "cell_type": "markdown",
   "metadata": {},
   "source": [
    "【排序】\n",
    "实现归并排序、快速排序、插入排序、冒泡排序、选择排序、堆排序（完成leetcode上的返回滑动窗口中的最大值(239)，这是上一期第三天的任务进行保留（涉及队列可以对第二天进行整理复习））\n",
    "编程实现 O(n) 时间复杂度内找到一组数据的第 K 大元素\n",
    "\n",
    "【二分查找】\n",
    "实现一个有序数组的二分查找算法\n",
    "实现模糊二分查找算法（比如大于等于给定值的第一个元素）"
   ]
  },
  {
   "cell_type": "markdown",
   "metadata": {},
   "source": [
    "# 排序"
   ]
  },
  {
   "cell_type": "markdown",
   "metadata": {},
   "source": [
    "## 归并排序"
   ]
  },
  {
   "cell_type": "markdown",
   "metadata": {},
   "source": [
    "时间复杂度： 最好最坏都是 O( n log n )\n",
    "稳定性：稳定\n",
    "缺点：每次拆分数组都要开心的数组， 每次合并数组都要开新数组，空间复杂度很大"
   ]
  },
  {
   "cell_type": "code",
   "execution_count": 130,
   "metadata": {},
   "outputs": [
    {
     "data": {
      "text/plain": [
       "[1, 2, 3, 4, 5, 7]"
      ]
     },
     "execution_count": 130,
     "metadata": {},
     "output_type": "execute_result"
    }
   ],
   "source": [
    "List = [5,4,3,7,2,1]\n",
    "def mergeSort(alist):\n",
    "    size = len(alist)\n",
    "    if size == 1:\n",
    "        return alist\n",
    "    mid = size//2\n",
    "    #拆分左右子串\n",
    "    left = alist[:mid]\n",
    "    right = alist[mid:]\n",
    "    #持续拆分直到列表长度位1\n",
    "    l1 = mergeSort(left)\n",
    "    l2 = mergeSort(right)\n",
    "    return merge(l1,l2)\n",
    "\n",
    "def merge(left,right):\n",
    "    result = []\n",
    "    while len(left)>0 and len(right)>0:\n",
    "        if left[0] <= right[0]:\n",
    "            result.append(left.pop(0))\n",
    "        else:\n",
    "            result.append(right.pop(0))\n",
    "    result += left\n",
    "    result += right\n",
    "    return result\n",
    "mergeSort(List)"
   ]
  },
  {
   "cell_type": "markdown",
   "metadata": {},
   "source": [
    "## 快速排序"
   ]
  },
  {
   "cell_type": "code",
   "execution_count": 73,
   "metadata": {},
   "outputs": [
    {
     "name": "stdout",
     "output_type": "stream",
     "text": [
      "[1, 2, 3, 4, 5, 7]\n"
     ]
    }
   ],
   "source": [
    "List = [5,4,3,7,2,1]\n",
    "def quickSort(alist,start,end):\n",
    "    if start >= end:\n",
    "        return\n",
    "    mid = alist[start]\n",
    "    left = start\n",
    "    right = end\n",
    "    while left<right:\n",
    "        while left<right and alist[right]>= mid:\n",
    "            right -=1\n",
    "        alist[left] = alist[right]\n",
    "        while left<right and alist[left] <mid:\n",
    "            left +=1\n",
    "        alist[right] = alist[left]\n",
    "    alist[left] = mid\n",
    "    quickSort(alist,start,left-1)\n",
    "    quickSort(alist,left+1,end)\n",
    "\n",
    "quickSort(List,0,5)\n",
    "print(List)"
   ]
  },
  {
   "cell_type": "markdown",
   "metadata": {},
   "source": [
    "## 冒泡排序"
   ]
  },
  {
   "cell_type": "markdown",
   "metadata": {},
   "source": [
    "通过比较相邻的两个值的大小，每次遍历数组确定一个值，多次遍历数组，得到排序后的数组\n",
    "比较低效。\n",
    "最优时间复杂度： O(n)\n",
    "最坏时间复杂度： O(n^2)\n",
    "稳定性：稳定的排序"
   ]
  },
  {
   "cell_type": "code",
   "execution_count": 34,
   "metadata": {},
   "outputs": [],
   "source": [
    "def bubbleSort(alist):\n",
    "    for i in range(len(alist)-1,0,-1):\n",
    "        for j in range(i):\n",
    "            if alist[j] > alist[j+1]:\n",
    "                alist[j],alist[j+1] = alist[j+1],alist[j]\n",
    "    return alist\n",
    "            "
   ]
  },
  {
   "cell_type": "markdown",
   "metadata": {},
   "source": [
    "## 改良版冒泡"
   ]
  },
  {
   "cell_type": "markdown",
   "metadata": {},
   "source": [
    "当没有元素交换时，退出循环"
   ]
  },
  {
   "cell_type": "code",
   "execution_count": 75,
   "metadata": {},
   "outputs": [],
   "source": [
    "List = [5,4,3,7,2,1]\n",
    "def shortbubbleSort(alist):\n",
    "    status = False\n",
    "    size = len(alist)-1\n",
    "    while size > 0 and status != True:\n",
    "        status = True\n",
    "        for j in range(size):\n",
    "            if alist[j] > alist[j+1]:\n",
    "                alist[j],alist[j+1] = alist[j+1],alist[j]\n",
    "                status = False\n",
    "        size -= 1\n",
    "    return alist"
   ]
  },
  {
   "cell_type": "code",
   "execution_count": 56,
   "metadata": {},
   "outputs": [
    {
     "data": {
      "text/plain": [
       "[1, 2, 3, 4, 5, 7]"
      ]
     },
     "execution_count": 56,
     "metadata": {},
     "output_type": "execute_result"
    }
   ],
   "source": [
    "shortbubbleSort(List)"
   ]
  },
  {
   "cell_type": "markdown",
   "metadata": {},
   "source": [
    "## 选择排序"
   ]
  },
  {
   "cell_type": "markdown",
   "metadata": {},
   "source": [
    "最优时间复杂度:O(n^2)\n",
    "最坏时间复杂度:O(n^2)\n",
    "稳定性：不稳定的排序\n",
    "\n",
    "例如： 5 8 5 2   第一趟排序5和2互换，那么两个5顺序就改变了"
   ]
  },
  {
   "cell_type": "code",
   "execution_count": 63,
   "metadata": {},
   "outputs": [],
   "source": [
    "List = [5,4,3,7,2,1]\n",
    "def selectSort(alist):\n",
    "    for i in range(len(alist)-1,0,-1):\n",
    "        pos = 0\n",
    "        max_value = alist[pos]\n",
    "        for j in range(1,i+1):\n",
    "            if alist[j] > max_value:\n",
    "                max_value = alist[j]\n",
    "                pos = j\n",
    "        alist[pos],alist[i] = alist[i],alist[pos]\n",
    "    return alist"
   ]
  },
  {
   "cell_type": "code",
   "execution_count": 64,
   "metadata": {},
   "outputs": [
    {
     "data": {
      "text/plain": [
       "[1, 2, 3, 4, 5, 7]"
      ]
     },
     "execution_count": 64,
     "metadata": {},
     "output_type": "execute_result"
    }
   ],
   "source": [
    "selectSort(List)"
   ]
  },
  {
   "cell_type": "markdown",
   "metadata": {},
   "source": [
    "## 插入排序"
   ]
  },
  {
   "cell_type": "markdown",
   "metadata": {},
   "source": [
    "从第一个元素开始，如果这个元素小于前一个元素，将这个元素与前面的元素做比较和交换\n",
    "\n",
    "最坏时间复杂度: O(n^2)\n",
    "最优时间复杂度: O(n)\n",
    "稳定性：稳定的排序"
   ]
  },
  {
   "cell_type": "code",
   "execution_count": 74,
   "metadata": {},
   "outputs": [],
   "source": [
    "def InsertionSort(A):\n",
    "    if len(A)<2:\n",
    "        return A\n",
    "    if len(A) == 2:\n",
    "        if A[0] > A[1]:\n",
    "            A[0],A[1] = A[1],A[0]\n",
    "        return A\n",
    "    else:\n",
    "        for i in range(1,len(A)):\n",
    "            if A[i-1]>A[i]:\n",
    "                j = i\n",
    "                tmp = A[j]\n",
    "                while A[j-1]>tmp and j>0:\n",
    "                    A[j] = A[j-1]\n",
    "                    j -= 1\n",
    "                A[j] = tmp\n",
    "        return A\n",
    "            \n",
    "            "
   ]
  },
  {
   "cell_type": "code",
   "execution_count": 115,
   "metadata": {},
   "outputs": [],
   "source": [
    "List = [5,4,3,7,2,1]"
   ]
  },
  {
   "cell_type": "code",
   "execution_count": 116,
   "metadata": {},
   "outputs": [
    {
     "data": {
      "text/plain": [
       "[1, 2, 3, 4, 5, 7]"
      ]
     },
     "execution_count": 116,
     "metadata": {},
     "output_type": "execute_result"
    }
   ],
   "source": [
    "InsertionSort(List)"
   ]
  },
  {
   "cell_type": "markdown",
   "metadata": {},
   "source": [
    "## 堆排序"
   ]
  },
  {
   "cell_type": "markdown",
   "metadata": {},
   "source": [
    "建立一个小顶堆，每次取出顶端值，加入列表"
   ]
  },
  {
   "cell_type": "code",
   "execution_count": 124,
   "metadata": {},
   "outputs": [],
   "source": [
    "def HeapSort(A):\n",
    "    end = len(A)\n",
    "    for i in range(end//2-1,-1,-1):\n",
    "        Sink(A,A[i],i,end)\n",
    "    print(A)\n",
    "    \n",
    "def Sink(List,num,start,end):\n",
    "    i,j = start,start*2+1\n",
    "    while j < end:\n",
    "        if j+1<end and List[j+1]<List[j]:\n",
    "            j+=1\n",
    "        if num < List[j]:\n",
    "            break\n",
    "        List[i] = List[j]\n",
    "        i = j\n",
    "        j = 2*j+1\n",
    "    List[i] = num\n",
    "    return List\n",
    "            "
   ]
  },
  {
   "cell_type": "code",
   "execution_count": 125,
   "metadata": {},
   "outputs": [],
   "source": [
    "A = [5,4,3,7,2,1]"
   ]
  },
  {
   "cell_type": "code",
   "execution_count": 126,
   "metadata": {},
   "outputs": [
    {
     "name": "stdout",
     "output_type": "stream",
     "text": [
      "[1, 2, 3, 7, 4, 5]\n"
     ]
    }
   ],
   "source": [
    "HeapSort(A)"
   ]
  },
  {
   "cell_type": "markdown",
   "metadata": {},
   "source": [
    "# 二分搜索查找"
   ]
  },
  {
   "cell_type": "markdown",
   "metadata": {},
   "source": [
    "需要考虑，如果列表未被排序，那么对列表的排序也需要消耗，或许执行顺序搜索也不错"
   ]
  },
  {
   "cell_type": "markdown",
   "metadata": {},
   "source": [
    "创建三个指针，分别指向起始值、结束值和中间值，比较中间值和目标值的大小，按需调整起始值和结束值直到找到所需的值"
   ]
  },
  {
   "cell_type": "code",
   "execution_count": 76,
   "metadata": {},
   "outputs": [],
   "source": [
    "def binarySearch(alist,item):\n",
    "    size = len(alist)\n",
    "    start = 0\n",
    "    end = size-1\n",
    "    found = False\n",
    "    while start <= end and not found:\n",
    "        mid = (start+end)//2\n",
    "        if item == alist[mid]:\n",
    "            return True\n",
    "        else:\n",
    "            if item < alist[mid]:\n",
    "                end = mid - 1\n",
    "            else:\n",
    "                start = mid + 1\n",
    "    return found"
   ]
  },
  {
   "cell_type": "code",
   "execution_count": 77,
   "metadata": {},
   "outputs": [],
   "source": [
    "testlist = [0,1,2,8,9,45,60,90,100]"
   ]
  },
  {
   "cell_type": "code",
   "execution_count": 78,
   "metadata": {},
   "outputs": [
    {
     "data": {
      "text/plain": [
       "True"
      ]
     },
     "execution_count": 78,
     "metadata": {},
     "output_type": "execute_result"
    }
   ],
   "source": [
    "binarySearch(testlist,45)"
   ]
  },
  {
   "cell_type": "markdown",
   "metadata": {},
   "source": [
    "递归版本"
   ]
  },
  {
   "cell_type": "code",
   "execution_count": 23,
   "metadata": {},
   "outputs": [],
   "source": [
    "def binarySearch2(alist,item):\n",
    "    size = len(alist)\n",
    "    if size == 0:\n",
    "        return False\n",
    "    else:\n",
    "        mid = size//2\n",
    "        if item == alist[mid]:\n",
    "            return True\n",
    "        elif item < alist[mid]:\n",
    "            return binarySearch2(alist[:mid],item)\n",
    "        else:\n",
    "            return binarySearch2(alist[mid+1:],item)"
   ]
  },
  {
   "cell_type": "code",
   "execution_count": 24,
   "metadata": {},
   "outputs": [
    {
     "data": {
      "text/plain": [
       "True"
      ]
     },
     "execution_count": 24,
     "metadata": {},
     "output_type": "execute_result"
    }
   ],
   "source": [
    "binarySearch2(testlist,45)"
   ]
  },
  {
   "cell_type": "markdown",
   "metadata": {},
   "source": [
    "## 模糊二分查找算法"
   ]
  },
  {
   "cell_type": "markdown",
   "metadata": {},
   "source": [
    "返回大于等于给定值的元素"
   ]
  },
  {
   "cell_type": "code",
   "execution_count": 163,
   "metadata": {
    "scrolled": true
   },
   "outputs": [
    {
     "data": {
      "text/plain": [
       "60"
      ]
     },
     "execution_count": 163,
     "metadata": {},
     "output_type": "execute_result"
    }
   ],
   "source": [
    "def binarySearch3(alist,item):\n",
    "    size = len(alist)\n",
    "    start = 0\n",
    "    end = size-1\n",
    "    found = False\n",
    "    while start <= end and not found:\n",
    "        mid = (start+end)//2\n",
    "        if item == alist[mid]:\n",
    "            return item\n",
    "        else:\n",
    "            if item < alist[mid]:\n",
    "                end = mid -1\n",
    "            else:\n",
    "                start = mid +1\n",
    "        if mid == 0 or mid == (start+end)//2:\n",
    "            mid = mid+1\n",
    "    return alist[mid]\n",
    "\n",
    "testlist = [0,1,2,8,9,45,60,90,100]\n",
    "binarySearch3(testlist,60)"
   ]
  },
  {
   "cell_type": "markdown",
   "metadata": {},
   "source": [
    "## 习题"
   ]
  },
  {
   "cell_type": "markdown",
   "metadata": {},
   "source": [
    "实现 int sqrt(int x) 函数。\n",
    "\n",
    "计算并返回 x 的平方根，其中 x 是非负整数。\n",
    "\n",
    "由于返回类型是整数，结果只保留整数的部分，小数部分将被舍去。\n",
    "\n",
    "示例 1:\n",
    "\n",
    "输入: 4\n",
    "输出: 2\n",
    "\n",
    "\n",
    "示例 2:\n",
    "\n",
    "输入: 8\n",
    "输出: 2\n",
    "说明: 8 的平方根是 2.82842..., \n",
    "     由于返回类型是整数，小数部分将被舍去。"
   ]
  },
  {
   "cell_type": "code",
   "execution_count": 164,
   "metadata": {},
   "outputs": [],
   "source": [
    "class Solution(object):\n",
    "    def mySqrt(self, x):\n",
    "        \"\"\"\n",
    "        :type x: int\n",
    "        :rtype: int\n",
    "        \"\"\"\n",
    "        result = x**0.5\n",
    "        return int(result)"
   ]
  },
  {
   "cell_type": "code",
   "execution_count": null,
   "metadata": {},
   "outputs": [],
   "source": []
  }
 ],
 "metadata": {
  "kernelspec": {
   "display_name": "Python 3",
   "language": "python",
   "name": "python3"
  },
  "language_info": {
   "codemirror_mode": {
    "name": "ipython",
    "version": 3
   },
   "file_extension": ".py",
   "mimetype": "text/x-python",
   "name": "python",
   "nbconvert_exporter": "python",
   "pygments_lexer": "ipython3",
   "version": "3.7.2"
  }
 },
 "nbformat": 4,
 "nbformat_minor": 2
}
